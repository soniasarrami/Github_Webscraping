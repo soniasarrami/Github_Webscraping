{
 "cells": [
  {
   "cell_type": "markdown",
   "id": "1774fdb5",
   "metadata": {},
   "source": [
    "# Top Repositories for Topics on Github - Web Scraping\n"
   ]
  },
  {
   "cell_type": "markdown",
   "id": "c77e5896",
   "metadata": {},
   "source": [
    "![](https://i.imgur.com/ducpvjV.jpg)"
   ]
  },
  {
   "cell_type": "code",
   "execution_count": null,
   "id": "056ad1b5",
   "metadata": {},
   "outputs": [],
   "source": []
  },
  {
   "cell_type": "markdown",
   "id": "256377b9",
   "metadata": {},
   "source": [
    "## 1. Introduction : \n"
   ]
  },
  {
   "cell_type": "markdown",
   "id": "9fc0d60b",
   "metadata": {},
   "source": [
    "### 1.1. What is web scraping "
   ]
  },
  {
   "cell_type": "markdown",
   "id": "2f65656c",
   "metadata": {},
   "source": [
    "Web scraping is the process of collecting structured web data in an automated fashion. Some of the main use cases of web scraping include price monitoring, price intelligence, news monitoring, lead generation, and market research among many others.\n",
    "\n",
    "In general, web data extraction is used by people and businesses who want to make use of the vast amount of publicly available web data to make smarter decisions.\n",
    "\n",
    "There are a number of tools and methods for performing web scraping; using network traffic, Scrappy, Selenium and Beautiful Soup are the most popular methods. Every method has its own advantage and drawbacks. In this project Beautiful Soup was used."
   ]
  },
  {
   "cell_type": "markdown",
   "id": "8926dfd1",
   "metadata": {},
   "source": [
    "### 1.2. Problem statement "
   ]
  },
  {
   "cell_type": "markdown",
   "id": "ef5d1f1a",
   "metadata": {},
   "source": [
    "GitHub, Inc. is a provider of Internet hosting for software development and version control using Git. It offers the distributed version control and source code management (SCM) functionality of Git, plus its own features. It provides access control and several collaboration features such as bug tracking, feature requests, task management, continuous integration and wikis for every project.Headquartered in California, it has been a subsidiary of Microsoft since 2018.\n",
    "\n",
    "It is commonly used to host open-source projects.As of January 2020, GitHub reports having over 40 million users and more than 190 million repositories (including at least 28 million public repositories).It is the largest source code host as of April 2020.\n",
    "\n",
    "\n",
    "With this brief introduction on Github, it seems clear that, in order to better understand the software development trends in the world and identify the hottest repositories, this website can provide valuable insight on better decsion making. \n",
    "\n",
    "That's why on this small project I have decided to scrape the topics page of Github and then scrape each page in order to get the info on the most popular repositories of each topic."
   ]
  },
  {
   "cell_type": "markdown",
   "id": "a293aa89",
   "metadata": {},
   "source": [
    "## 2. Project Steps:"
   ]
  },
  {
   "cell_type": "markdown",
   "id": "e5b96feb",
   "metadata": {},
   "source": [
    "\n",
    "- We are going to scrape https://github.com/topics \n",
    "- We will get a list of topics. For each topic, we will get topic title, topic page URL and topic description. \n",
    "- For each topic, we will get the top 25 repositories in the topic from the topic page.\n",
    "- For each repository, we will grab the repo name, username, stars and repository URL.\n",
    "- For each topic, we will create a CSV file "
   ]
  },
  {
   "cell_type": "markdown",
   "id": "f43ab3dd",
   "metadata": {},
   "source": [
    "#### Scraping the list of topics from Github\n",
    "\n",
    "- Use requests to download the page\n",
    "- Use BS4 to parse and extract information\n",
    "- Convert it to a Pandas dataframe\n"
   ]
  },
  {
   "cell_type": "code",
   "execution_count": 2,
   "id": "d78ff67f",
   "metadata": {},
   "outputs": [],
   "source": [
    "# Importing necessary libraries\n",
    "import requests\n",
    "from bs4 import BeautifulSoup\n",
    "import pandas as pd\n",
    "import os"
   ]
  },
  {
   "cell_type": "code",
   "execution_count": 4,
   "id": "dd4153d8",
   "metadata": {},
   "outputs": [],
   "source": [
    "#defining a function for parsing the topics page and turning it into a BS object\n",
    "def get_topics_page():\n",
    "    topics_url = 'https://github.com/topics'\n",
    "    response = requests.get (topics_url)\n",
    "    if response.status_code != 200:\n",
    "        raise Exception (\"Failed to load page {}\".format(topic_url) )\n",
    "    doc = BeautifulSoup(response.text, \"html.parser\")\n",
    "    return doc "
   ]
  },
  {
   "cell_type": "code",
   "execution_count": 7,
   "id": "017851d1",
   "metadata": {},
   "outputs": [],
   "source": [
    "#loading the result of our defined function to doc variable\n",
    "doc = get_topics_page()"
   ]
  },
  {
   "cell_type": "code",
   "execution_count": 6,
   "id": "8d32eee3",
   "metadata": {},
   "outputs": [
    {
     "data": {
      "text/plain": [
       "bs4.BeautifulSoup"
      ]
     },
     "execution_count": 6,
     "metadata": {},
     "output_type": "execute_result"
    }
   ],
   "source": [
    "#checking if its a BS object\n",
    "type(doc)"
   ]
  },
  {
   "cell_type": "markdown",
   "id": "310ae0c5",
   "metadata": {},
   "source": [
    "First we will inspect the Github Topics page to get the right HTML tags\n",
    "and then we will define a function to get that information automatically\n"
   ]
  },
  {
   "cell_type": "markdown",
   "id": "d7377f96",
   "metadata": {},
   "source": [
    "To get topic titles, we can pick \"p\" tags with the class \"f3 lh-condensed mb-0 mt-1 Link--primary\""
   ]
  },
  {
   "cell_type": "markdown",
   "id": "d7eb018a",
   "metadata": {},
   "source": [
    "![](https://i.imgur.com/EOqfQaQ.jpg)"
   ]
  },
  {
   "cell_type": "code",
   "execution_count": 12,
   "id": "38210159",
   "metadata": {},
   "outputs": [],
   "source": [
    "# defining a function to get all the topic titles in the topics page\n",
    "def get_topic_titles (doc):\n",
    "    selection_class = \"f3 lh-condensed mb-0 mt-1 Link--primary\"\n",
    "    topic_title_tags = doc.find_all(\"p\", {\"class\": selection_class })\n",
    "    \n",
    "    topic_titles = []\n",
    "    for tag in topic_title_tags:\n",
    "        topic_titles.append(tag.text)\n",
    "    return topic_titles"
   ]
  },
  {
   "cell_type": "code",
   "execution_count": 13,
   "id": "eff37db7",
   "metadata": {},
   "outputs": [],
   "source": [
    "#Getting all the titles using our defined function\n",
    "titles = get_topic_titles(doc)"
   ]
  },
  {
   "cell_type": "code",
   "execution_count": 14,
   "id": "24299e40",
   "metadata": {},
   "outputs": [
    {
     "data": {
      "text/plain": [
       "30"
      ]
     },
     "execution_count": 14,
     "metadata": {},
     "output_type": "execute_result"
    }
   ],
   "source": [
    "#getting the length of titles to check if we have get all the titles\n",
    "len(titles)"
   ]
  },
  {
   "cell_type": "markdown",
   "id": "454aa873",
   "metadata": {},
   "source": [
    "Similarly, we inspected the page to get the right HTML tags for descriptions\n",
    "and then we will define a function to get that information automatically\n",
    "\n"
   ]
  },
  {
   "cell_type": "markdown",
   "id": "ad9b98ed",
   "metadata": {},
   "source": [
    "To get topic descriptions, we can pick \"p\" tags with the class \"f5 color-text-secondary mb-0 mt-1\""
   ]
  },
  {
   "cell_type": "markdown",
   "id": "5556a689",
   "metadata": {},
   "source": [
    "![](https://i.imgur.com/wX0AIiV.jpg)"
   ]
  },
  {
   "cell_type": "code",
   "execution_count": 16,
   "id": "7dea7263",
   "metadata": {},
   "outputs": [],
   "source": [
    "#defining a function to get all the topic descriptions in the topics page\n",
    "\n",
    "def get_topic_descs (doc):\n",
    "    desc_selector = \"f5 color-text-secondary mb-0 mt-1\"\n",
    "    topic_desc_tags = doc.find_all(\"p\", {\"class\": desc_selector} )\n",
    "    \n",
    "    topic_descs = []\n",
    "    for tag in topic_desc_tags:\n",
    "        topic_descs.append(tag.text.strip())\n",
    "    return topic_descs "
   ]
  },
  {
   "cell_type": "code",
   "execution_count": 18,
   "id": "7a79fe3a",
   "metadata": {},
   "outputs": [],
   "source": [
    "#Getting all the descriptions using our defined function\n",
    "descs = get_topic_descs(doc)"
   ]
  },
  {
   "cell_type": "code",
   "execution_count": 20,
   "id": "809c9602",
   "metadata": {},
   "outputs": [
    {
     "data": {
      "text/plain": [
       "30"
      ]
     },
     "execution_count": 20,
     "metadata": {},
     "output_type": "execute_result"
    }
   ],
   "source": [
    "#getting the length of titles to check if we have get all the descriptions\n",
    "len(descs)"
   ]
  },
  {
   "cell_type": "markdown",
   "id": "684d9097",
   "metadata": {},
   "source": [
    "To get topic URLs, we can pick \"a\" tags with the class \"d-flex no-underline\""
   ]
  },
  {
   "cell_type": "markdown",
   "id": "3a248af7",
   "metadata": {},
   "source": [
    "![](https://i.imgur.com/2LhkWi0.jpg)"
   ]
  },
  {
   "cell_type": "code",
   "execution_count": 23,
   "id": "f406355a",
   "metadata": {},
   "outputs": [],
   "source": [
    "#defining a function to get all the topic urls in the topics page\n",
    "\n",
    "def get_topic_urls (doc):\n",
    "    topic_link_tags = doc.find_all (\"a\", {\"class\": \"d-flex no-underline\"})\n",
    "    \n",
    "    topic_urls = []\n",
    "    base_url = \"https://github.com\"\n",
    "    for tag in topic_link_tags:\n",
    "        topic_urls.append(base_url + tag[\"href\"])  \n",
    "    return topic_urls"
   ]
  },
  {
   "cell_type": "code",
   "execution_count": 24,
   "id": "c5d872b1",
   "metadata": {},
   "outputs": [],
   "source": [
    "#Getting all the urls using our defined function\n",
    "urls = get_topic_urls(doc)"
   ]
  },
  {
   "cell_type": "code",
   "execution_count": 25,
   "id": "4297b29a",
   "metadata": {},
   "outputs": [
    {
     "data": {
      "text/plain": [
       "30"
      ]
     },
     "execution_count": 25,
     "metadata": {},
     "output_type": "execute_result"
    }
   ],
   "source": [
    "#getting the length of titles to check if we have get all the URLs\n",
    "len(urls)"
   ]
  },
  {
   "cell_type": "markdown",
   "id": "13224a7d",
   "metadata": {},
   "source": [
    "### create a single function for the above tasks"
   ]
  },
  {
   "cell_type": "markdown",
   "id": "c4d2f952",
   "metadata": {},
   "source": [
    "we are going to define a function to get all the information of all topics on the topic page"
   ]
  },
  {
   "cell_type": "code",
   "execution_count": 29,
   "id": "bb2a5d14",
   "metadata": {},
   "outputs": [],
   "source": [
    "def scrape_topics():\n",
    "    topics_url = 'https://github.com/topics'\n",
    "    response = requests.get (topics_url)\n",
    "    if response.status_code != 200:\n",
    "        raise Exception (\"Failed to load page {}\".format(topic_url) )\n",
    "    topic_dict = {\"title\": get_topic_titles(doc), \"description\": get_topic_descs(doc), \"url\": get_topic_urls (doc)}\n",
    "    return pd.DataFrame (topic_dict)"
   ]
  },
  {
   "cell_type": "code",
   "execution_count": 31,
   "id": "67a8904d",
   "metadata": {},
   "outputs": [
    {
     "data": {
      "text/html": [
       "<div>\n",
       "<style scoped>\n",
       "    .dataframe tbody tr th:only-of-type {\n",
       "        vertical-align: middle;\n",
       "    }\n",
       "\n",
       "    .dataframe tbody tr th {\n",
       "        vertical-align: top;\n",
       "    }\n",
       "\n",
       "    .dataframe thead th {\n",
       "        text-align: right;\n",
       "    }\n",
       "</style>\n",
       "<table border=\"1\" class=\"dataframe\">\n",
       "  <thead>\n",
       "    <tr style=\"text-align: right;\">\n",
       "      <th></th>\n",
       "      <th>title</th>\n",
       "      <th>description</th>\n",
       "      <th>url</th>\n",
       "    </tr>\n",
       "  </thead>\n",
       "  <tbody>\n",
       "    <tr>\n",
       "      <th>0</th>\n",
       "      <td>3D</td>\n",
       "      <td>3D modeling is the process of virtually develo...</td>\n",
       "      <td>https://github.com/topics/3d</td>\n",
       "    </tr>\n",
       "    <tr>\n",
       "      <th>1</th>\n",
       "      <td>Ajax</td>\n",
       "      <td>Ajax is a technique for creating interactive w...</td>\n",
       "      <td>https://github.com/topics/ajax</td>\n",
       "    </tr>\n",
       "    <tr>\n",
       "      <th>2</th>\n",
       "      <td>Algorithm</td>\n",
       "      <td>Algorithms are self-contained sequences that c...</td>\n",
       "      <td>https://github.com/topics/algorithm</td>\n",
       "    </tr>\n",
       "    <tr>\n",
       "      <th>3</th>\n",
       "      <td>Amp</td>\n",
       "      <td>Amp is a non-blocking concurrency framework fo...</td>\n",
       "      <td>https://github.com/topics/amphp</td>\n",
       "    </tr>\n",
       "    <tr>\n",
       "      <th>4</th>\n",
       "      <td>Android</td>\n",
       "      <td>Android is an operating system built by Google...</td>\n",
       "      <td>https://github.com/topics/android</td>\n",
       "    </tr>\n",
       "    <tr>\n",
       "      <th>5</th>\n",
       "      <td>Angular</td>\n",
       "      <td>Angular is an open source web application plat...</td>\n",
       "      <td>https://github.com/topics/angular</td>\n",
       "    </tr>\n",
       "    <tr>\n",
       "      <th>6</th>\n",
       "      <td>Ansible</td>\n",
       "      <td>Ansible is a simple and powerful automation en...</td>\n",
       "      <td>https://github.com/topics/ansible</td>\n",
       "    </tr>\n",
       "    <tr>\n",
       "      <th>7</th>\n",
       "      <td>API</td>\n",
       "      <td>An API (Application Programming Interface) is ...</td>\n",
       "      <td>https://github.com/topics/api</td>\n",
       "    </tr>\n",
       "    <tr>\n",
       "      <th>8</th>\n",
       "      <td>Arduino</td>\n",
       "      <td>Arduino is an open source hardware and softwar...</td>\n",
       "      <td>https://github.com/topics/arduino</td>\n",
       "    </tr>\n",
       "    <tr>\n",
       "      <th>9</th>\n",
       "      <td>ASP.NET</td>\n",
       "      <td>ASP.NET is a web framework for building modern...</td>\n",
       "      <td>https://github.com/topics/aspnet</td>\n",
       "    </tr>\n",
       "    <tr>\n",
       "      <th>10</th>\n",
       "      <td>Atom</td>\n",
       "      <td>Atom is a open source text editor built with w...</td>\n",
       "      <td>https://github.com/topics/atom</td>\n",
       "    </tr>\n",
       "    <tr>\n",
       "      <th>11</th>\n",
       "      <td>Awesome Lists</td>\n",
       "      <td>An awesome list is a list of awesome things cu...</td>\n",
       "      <td>https://github.com/topics/awesome</td>\n",
       "    </tr>\n",
       "    <tr>\n",
       "      <th>12</th>\n",
       "      <td>Amazon Web Services</td>\n",
       "      <td>Amazon Web Services provides on-demand cloud c...</td>\n",
       "      <td>https://github.com/topics/aws</td>\n",
       "    </tr>\n",
       "    <tr>\n",
       "      <th>13</th>\n",
       "      <td>Azure</td>\n",
       "      <td>Azure is a cloud computing service created by ...</td>\n",
       "      <td>https://github.com/topics/azure</td>\n",
       "    </tr>\n",
       "    <tr>\n",
       "      <th>14</th>\n",
       "      <td>Babel</td>\n",
       "      <td>Babel is a compiler for writing next generatio...</td>\n",
       "      <td>https://github.com/topics/babel</td>\n",
       "    </tr>\n",
       "    <tr>\n",
       "      <th>15</th>\n",
       "      <td>Bash</td>\n",
       "      <td>Bash is a shell and command language interpret...</td>\n",
       "      <td>https://github.com/topics/bash</td>\n",
       "    </tr>\n",
       "    <tr>\n",
       "      <th>16</th>\n",
       "      <td>Bitcoin</td>\n",
       "      <td>Bitcoin is a cryptocurrency developed by Satos...</td>\n",
       "      <td>https://github.com/topics/bitcoin</td>\n",
       "    </tr>\n",
       "    <tr>\n",
       "      <th>17</th>\n",
       "      <td>Bootstrap</td>\n",
       "      <td>Bootstrap is an HTML, CSS, and JavaScript fram...</td>\n",
       "      <td>https://github.com/topics/bootstrap</td>\n",
       "    </tr>\n",
       "    <tr>\n",
       "      <th>18</th>\n",
       "      <td>Bot</td>\n",
       "      <td>A bot is an application that runs automated ta...</td>\n",
       "      <td>https://github.com/topics/bot</td>\n",
       "    </tr>\n",
       "    <tr>\n",
       "      <th>19</th>\n",
       "      <td>C</td>\n",
       "      <td>C is a general purpose programming language th...</td>\n",
       "      <td>https://github.com/topics/c</td>\n",
       "    </tr>\n",
       "    <tr>\n",
       "      <th>20</th>\n",
       "      <td>Chrome</td>\n",
       "      <td>Chrome is a web browser from the tech company ...</td>\n",
       "      <td>https://github.com/topics/chrome</td>\n",
       "    </tr>\n",
       "    <tr>\n",
       "      <th>21</th>\n",
       "      <td>Chrome extension</td>\n",
       "      <td>Google Chrome Extensions are add-ons that allo...</td>\n",
       "      <td>https://github.com/topics/chrome-extension</td>\n",
       "    </tr>\n",
       "    <tr>\n",
       "      <th>22</th>\n",
       "      <td>Command line interface</td>\n",
       "      <td>A CLI, or command-line interface, is a console...</td>\n",
       "      <td>https://github.com/topics/cli</td>\n",
       "    </tr>\n",
       "    <tr>\n",
       "      <th>23</th>\n",
       "      <td>Clojure</td>\n",
       "      <td>Clojure is a dynamic, general-purpose programm...</td>\n",
       "      <td>https://github.com/topics/clojure</td>\n",
       "    </tr>\n",
       "    <tr>\n",
       "      <th>24</th>\n",
       "      <td>Code quality</td>\n",
       "      <td>Automate your code review with style, quality,...</td>\n",
       "      <td>https://github.com/topics/code-quality</td>\n",
       "    </tr>\n",
       "    <tr>\n",
       "      <th>25</th>\n",
       "      <td>Code review</td>\n",
       "      <td>Ensure your code meets quality standards and s...</td>\n",
       "      <td>https://github.com/topics/code-review</td>\n",
       "    </tr>\n",
       "    <tr>\n",
       "      <th>26</th>\n",
       "      <td>Compiler</td>\n",
       "      <td>Compilers are software that translate higher-l...</td>\n",
       "      <td>https://github.com/topics/compiler</td>\n",
       "    </tr>\n",
       "    <tr>\n",
       "      <th>27</th>\n",
       "      <td>Continuous integration</td>\n",
       "      <td>Automatically build and test your code as you ...</td>\n",
       "      <td>https://github.com/topics/continuous-integration</td>\n",
       "    </tr>\n",
       "    <tr>\n",
       "      <th>28</th>\n",
       "      <td>COVID-19</td>\n",
       "      <td>The coronavirus disease 2019 (COVID-19) is an ...</td>\n",
       "      <td>https://github.com/topics/covid-19</td>\n",
       "    </tr>\n",
       "    <tr>\n",
       "      <th>29</th>\n",
       "      <td>C++</td>\n",
       "      <td>C++ is a general purpose and object-oriented p...</td>\n",
       "      <td>https://github.com/topics/cpp</td>\n",
       "    </tr>\n",
       "  </tbody>\n",
       "</table>\n",
       "</div>"
      ],
      "text/plain": [
       "                     title                                        description  \\\n",
       "0                       3D  3D modeling is the process of virtually develo...   \n",
       "1                     Ajax  Ajax is a technique for creating interactive w...   \n",
       "2                Algorithm  Algorithms are self-contained sequences that c...   \n",
       "3                      Amp  Amp is a non-blocking concurrency framework fo...   \n",
       "4                  Android  Android is an operating system built by Google...   \n",
       "5                  Angular  Angular is an open source web application plat...   \n",
       "6                  Ansible  Ansible is a simple and powerful automation en...   \n",
       "7                      API  An API (Application Programming Interface) is ...   \n",
       "8                  Arduino  Arduino is an open source hardware and softwar...   \n",
       "9                  ASP.NET  ASP.NET is a web framework for building modern...   \n",
       "10                    Atom  Atom is a open source text editor built with w...   \n",
       "11           Awesome Lists  An awesome list is a list of awesome things cu...   \n",
       "12     Amazon Web Services  Amazon Web Services provides on-demand cloud c...   \n",
       "13                   Azure  Azure is a cloud computing service created by ...   \n",
       "14                   Babel  Babel is a compiler for writing next generatio...   \n",
       "15                    Bash  Bash is a shell and command language interpret...   \n",
       "16                 Bitcoin  Bitcoin is a cryptocurrency developed by Satos...   \n",
       "17               Bootstrap  Bootstrap is an HTML, CSS, and JavaScript fram...   \n",
       "18                     Bot  A bot is an application that runs automated ta...   \n",
       "19                       C  C is a general purpose programming language th...   \n",
       "20                  Chrome  Chrome is a web browser from the tech company ...   \n",
       "21        Chrome extension  Google Chrome Extensions are add-ons that allo...   \n",
       "22  Command line interface  A CLI, or command-line interface, is a console...   \n",
       "23                 Clojure  Clojure is a dynamic, general-purpose programm...   \n",
       "24            Code quality  Automate your code review with style, quality,...   \n",
       "25             Code review  Ensure your code meets quality standards and s...   \n",
       "26                Compiler  Compilers are software that translate higher-l...   \n",
       "27  Continuous integration  Automatically build and test your code as you ...   \n",
       "28                COVID-19  The coronavirus disease 2019 (COVID-19) is an ...   \n",
       "29                     C++  C++ is a general purpose and object-oriented p...   \n",
       "\n",
       "                                                 url  \n",
       "0                       https://github.com/topics/3d  \n",
       "1                     https://github.com/topics/ajax  \n",
       "2                https://github.com/topics/algorithm  \n",
       "3                    https://github.com/topics/amphp  \n",
       "4                  https://github.com/topics/android  \n",
       "5                  https://github.com/topics/angular  \n",
       "6                  https://github.com/topics/ansible  \n",
       "7                      https://github.com/topics/api  \n",
       "8                  https://github.com/topics/arduino  \n",
       "9                   https://github.com/topics/aspnet  \n",
       "10                    https://github.com/topics/atom  \n",
       "11                 https://github.com/topics/awesome  \n",
       "12                     https://github.com/topics/aws  \n",
       "13                   https://github.com/topics/azure  \n",
       "14                   https://github.com/topics/babel  \n",
       "15                    https://github.com/topics/bash  \n",
       "16                 https://github.com/topics/bitcoin  \n",
       "17               https://github.com/topics/bootstrap  \n",
       "18                     https://github.com/topics/bot  \n",
       "19                       https://github.com/topics/c  \n",
       "20                  https://github.com/topics/chrome  \n",
       "21        https://github.com/topics/chrome-extension  \n",
       "22                     https://github.com/topics/cli  \n",
       "23                 https://github.com/topics/clojure  \n",
       "24            https://github.com/topics/code-quality  \n",
       "25             https://github.com/topics/code-review  \n",
       "26                https://github.com/topics/compiler  \n",
       "27  https://github.com/topics/continuous-integration  \n",
       "28                https://github.com/topics/covid-19  \n",
       "29                     https://github.com/topics/cpp  "
      ]
     },
     "execution_count": 31,
     "metadata": {},
     "output_type": "execute_result"
    }
   ],
   "source": [
    "scrape_topics()"
   ]
  },
  {
   "cell_type": "markdown",
   "id": "4ef1e8e8",
   "metadata": {},
   "source": [
    "### Getting the top 25 repositories from the topic page\n",
    "\n",
    "We are going to define a function that gets the url of a topic and turn it into a BS object"
   ]
  },
  {
   "cell_type": "code",
   "execution_count": 45,
   "id": "39cbbf00",
   "metadata": {},
   "outputs": [],
   "source": [
    "#defining a function for getting info on topic pages and turining into BS object\n",
    "def get_topic_page (topic_url):\n",
    "    #Download the page\n",
    "    response = requests.get(topic_url)\n",
    "    #Check successful response\n",
    "    if response.status_code != 200:\n",
    "        raise Exception (\"Failed to load page {}\".format(topic_url) )\n",
    "    #Parse using Beautiful Soup\n",
    "    topic_doc = BeautifulSoup (response.text, \"html.parser\")\n",
    "    return topic_doc"
   ]
  },
  {
   "cell_type": "code",
   "execution_count": 52,
   "id": "16734206",
   "metadata": {},
   "outputs": [],
   "source": [
    "#checking with a sample link\n",
    "doc_topic = get_topic_page(\"https://github.com/topics/3d\")"
   ]
  },
  {
   "cell_type": "markdown",
   "id": "a896c05a",
   "metadata": {},
   "source": [
    "First we will inspect the topic page to get the right HTML tags\n",
    "and then we will define a function to get that information automatically\n"
   ]
  },
  {
   "cell_type": "markdown",
   "id": "050f93ef",
   "metadata": {},
   "source": [
    "![](https://i.imgur.com/9sebTUx.jpg)"
   ]
  },
  {
   "cell_type": "code",
   "execution_count": 47,
   "id": "17254a51",
   "metadata": {},
   "outputs": [],
   "source": [
    "# defining a function to get all the info for each repository\n",
    "base_url = \"https://github.com/\"\n",
    "\n",
    "def parse_star_count (stars_str):\n",
    "    stars_str = stars_str.strip()\n",
    "    if stars_str[-1] == \"k\":\n",
    "        return int(float(stars_str[:-1])*1000)\n",
    "    return int(stars_str) \n",
    "\n",
    "def get_repo_info(h1_tag, star_tag ):\n",
    "    a_tags = h1_tag.find_all(\"a\")\n",
    "    username = a_tags [0].text.strip()\n",
    "    repo_name = a_tags[1].text.strip()\n",
    "    repo_url = base_url + a_tags[1][\"href\"]\n",
    "    stars = parse_star_count(star_tag.text.strip())\n",
    "    return username, repo_name, stars, repo_url"
   ]
  },
  {
   "cell_type": "markdown",
   "id": "0622774b",
   "metadata": {},
   "source": [
    "Making a function to get all information for all 25 repositories"
   ]
  },
  {
   "cell_type": "code",
   "execution_count": 48,
   "id": "ee9d79c8",
   "metadata": {},
   "outputs": [],
   "source": [
    "def get_topic_repos (topic_doc):\n",
    "    #Get h3 tags containing repo title, repo URL and username\n",
    "    h1_selection_class = \"f3 color-text-secondary text-normal lh-condensed\"\n",
    "    repo_tags = topic_doc.find_all(\"h3\",{\"class\":h1_selection_class})\n",
    "    #Get stars tags \n",
    "    star_tags = topic_doc.find_all(\"a\", {\"class\": \"social-count float-none\"})\n",
    "    # Get repo info\n",
    "    topic_repos_dict = {\"username\": [], \"repo_name\": [], \"stars\": [], \"repo_url\": []}\n",
    "    \n",
    "    for i in range(len(repo_tags)):\n",
    "        repo_info = get_repo_info(repo_tags[i], star_tags[i])\n",
    "        topic_repos_dict[\"username\"].append(repo_info[0])\n",
    "        topic_repos_dict[\"repo_name\"].append(repo_info[1])\n",
    "        topic_repos_dict[\"stars\"].append(repo_info[2])\n",
    "        topic_repos_dict[\"repo_url\"].append(repo_info[3])\n",
    "    return pd.DataFrame (topic_repos_dict)"
   ]
  },
  {
   "cell_type": "code",
   "execution_count": 50,
   "id": "9ad46784",
   "metadata": {},
   "outputs": [
    {
     "data": {
      "text/html": [
       "<div>\n",
       "<style scoped>\n",
       "    .dataframe tbody tr th:only-of-type {\n",
       "        vertical-align: middle;\n",
       "    }\n",
       "\n",
       "    .dataframe tbody tr th {\n",
       "        vertical-align: top;\n",
       "    }\n",
       "\n",
       "    .dataframe thead th {\n",
       "        text-align: right;\n",
       "    }\n",
       "</style>\n",
       "<table border=\"1\" class=\"dataframe\">\n",
       "  <thead>\n",
       "    <tr style=\"text-align: right;\">\n",
       "      <th></th>\n",
       "      <th>username</th>\n",
       "      <th>repo_name</th>\n",
       "      <th>stars</th>\n",
       "      <th>repo_url</th>\n",
       "    </tr>\n",
       "  </thead>\n",
       "  <tbody>\n",
       "    <tr>\n",
       "      <th>0</th>\n",
       "      <td>mrdoob</td>\n",
       "      <td>three.js</td>\n",
       "      <td>73800</td>\n",
       "      <td>https://github.com//mrdoob/three.js</td>\n",
       "    </tr>\n",
       "    <tr>\n",
       "      <th>1</th>\n",
       "      <td>libgdx</td>\n",
       "      <td>libgdx</td>\n",
       "      <td>18800</td>\n",
       "      <td>https://github.com//libgdx/libgdx</td>\n",
       "    </tr>\n",
       "    <tr>\n",
       "      <th>2</th>\n",
       "      <td>pmndrs</td>\n",
       "      <td>react-three-fiber</td>\n",
       "      <td>14800</td>\n",
       "      <td>https://github.com//pmndrs/react-three-fiber</td>\n",
       "    </tr>\n",
       "    <tr>\n",
       "      <th>3</th>\n",
       "      <td>BabylonJS</td>\n",
       "      <td>Babylon.js</td>\n",
       "      <td>14700</td>\n",
       "      <td>https://github.com//BabylonJS/Babylon.js</td>\n",
       "    </tr>\n",
       "    <tr>\n",
       "      <th>4</th>\n",
       "      <td>aframevr</td>\n",
       "      <td>aframe</td>\n",
       "      <td>13000</td>\n",
       "      <td>https://github.com//aframevr/aframe</td>\n",
       "    </tr>\n",
       "    <tr>\n",
       "      <th>5</th>\n",
       "      <td>ssloy</td>\n",
       "      <td>tinyrenderer</td>\n",
       "      <td>11100</td>\n",
       "      <td>https://github.com//ssloy/tinyrenderer</td>\n",
       "    </tr>\n",
       "    <tr>\n",
       "      <th>6</th>\n",
       "      <td>lettier</td>\n",
       "      <td>3d-game-shaders-for-beginners</td>\n",
       "      <td>11000</td>\n",
       "      <td>https://github.com//lettier/3d-game-shaders-fo...</td>\n",
       "    </tr>\n",
       "    <tr>\n",
       "      <th>7</th>\n",
       "      <td>FreeCAD</td>\n",
       "      <td>FreeCAD</td>\n",
       "      <td>9800</td>\n",
       "      <td>https://github.com//FreeCAD/FreeCAD</td>\n",
       "    </tr>\n",
       "    <tr>\n",
       "      <th>8</th>\n",
       "      <td>metafizzy</td>\n",
       "      <td>zdog</td>\n",
       "      <td>8600</td>\n",
       "      <td>https://github.com//metafizzy/zdog</td>\n",
       "    </tr>\n",
       "    <tr>\n",
       "      <th>9</th>\n",
       "      <td>CesiumGS</td>\n",
       "      <td>cesium</td>\n",
       "      <td>7400</td>\n",
       "      <td>https://github.com//CesiumGS/cesium</td>\n",
       "    </tr>\n",
       "    <tr>\n",
       "      <th>10</th>\n",
       "      <td>timzhang642</td>\n",
       "      <td>3D-Machine-Learning</td>\n",
       "      <td>7000</td>\n",
       "      <td>https://github.com//timzhang642/3D-Machine-Lea...</td>\n",
       "    </tr>\n",
       "    <tr>\n",
       "      <th>11</th>\n",
       "      <td>a1studmuffin</td>\n",
       "      <td>SpaceshipGenerator</td>\n",
       "      <td>6900</td>\n",
       "      <td>https://github.com//a1studmuffin/SpaceshipGene...</td>\n",
       "    </tr>\n",
       "    <tr>\n",
       "      <th>12</th>\n",
       "      <td>isl-org</td>\n",
       "      <td>Open3D</td>\n",
       "      <td>5300</td>\n",
       "      <td>https://github.com//isl-org/Open3D</td>\n",
       "    </tr>\n",
       "    <tr>\n",
       "      <th>13</th>\n",
       "      <td>spritejs</td>\n",
       "      <td>spritejs</td>\n",
       "      <td>4600</td>\n",
       "      <td>https://github.com//spritejs/spritejs</td>\n",
       "    </tr>\n",
       "    <tr>\n",
       "      <th>14</th>\n",
       "      <td>tensorspace-team</td>\n",
       "      <td>tensorspace</td>\n",
       "      <td>4500</td>\n",
       "      <td>https://github.com//tensorspace-team/tensorspace</td>\n",
       "    </tr>\n",
       "    <tr>\n",
       "      <th>15</th>\n",
       "      <td>jagenjo</td>\n",
       "      <td>webglstudio.js</td>\n",
       "      <td>4400</td>\n",
       "      <td>https://github.com//jagenjo/webglstudio.js</td>\n",
       "    </tr>\n",
       "    <tr>\n",
       "      <th>16</th>\n",
       "      <td>YadiraF</td>\n",
       "      <td>PRNet</td>\n",
       "      <td>4400</td>\n",
       "      <td>https://github.com//YadiraF/PRNet</td>\n",
       "    </tr>\n",
       "    <tr>\n",
       "      <th>17</th>\n",
       "      <td>AaronJackson</td>\n",
       "      <td>vrn</td>\n",
       "      <td>4400</td>\n",
       "      <td>https://github.com//AaronJackson/vrn</td>\n",
       "    </tr>\n",
       "    <tr>\n",
       "      <th>18</th>\n",
       "      <td>domlysz</td>\n",
       "      <td>BlenderGIS</td>\n",
       "      <td>4200</td>\n",
       "      <td>https://github.com//domlysz/BlenderGIS</td>\n",
       "    </tr>\n",
       "    <tr>\n",
       "      <th>19</th>\n",
       "      <td>openscad</td>\n",
       "      <td>openscad</td>\n",
       "      <td>4200</td>\n",
       "      <td>https://github.com//openscad/openscad</td>\n",
       "    </tr>\n",
       "    <tr>\n",
       "      <th>20</th>\n",
       "      <td>ssloy</td>\n",
       "      <td>tinyraytracer</td>\n",
       "      <td>3900</td>\n",
       "      <td>https://github.com//ssloy/tinyraytracer</td>\n",
       "    </tr>\n",
       "    <tr>\n",
       "      <th>21</th>\n",
       "      <td>mosra</td>\n",
       "      <td>magnum</td>\n",
       "      <td>3600</td>\n",
       "      <td>https://github.com//mosra/magnum</td>\n",
       "    </tr>\n",
       "    <tr>\n",
       "      <th>22</th>\n",
       "      <td>google</td>\n",
       "      <td>model-viewer</td>\n",
       "      <td>3300</td>\n",
       "      <td>https://github.com//google/model-viewer</td>\n",
       "    </tr>\n",
       "    <tr>\n",
       "      <th>23</th>\n",
       "      <td>blender</td>\n",
       "      <td>blender</td>\n",
       "      <td>3200</td>\n",
       "      <td>https://github.com//blender/blender</td>\n",
       "    </tr>\n",
       "    <tr>\n",
       "      <th>24</th>\n",
       "      <td>gfxfundamentals</td>\n",
       "      <td>webgl-fundamentals</td>\n",
       "      <td>3100</td>\n",
       "      <td>https://github.com//gfxfundamentals/webgl-fund...</td>\n",
       "    </tr>\n",
       "    <tr>\n",
       "      <th>25</th>\n",
       "      <td>cleardusk</td>\n",
       "      <td>3DDFA</td>\n",
       "      <td>3100</td>\n",
       "      <td>https://github.com//cleardusk/3DDFA</td>\n",
       "    </tr>\n",
       "    <tr>\n",
       "      <th>26</th>\n",
       "      <td>jasonlong</td>\n",
       "      <td>isometric-contributions</td>\n",
       "      <td>3000</td>\n",
       "      <td>https://github.com//jasonlong/isometric-contri...</td>\n",
       "    </tr>\n",
       "    <tr>\n",
       "      <th>27</th>\n",
       "      <td>rg3dengine</td>\n",
       "      <td>rg3d</td>\n",
       "      <td>2700</td>\n",
       "      <td>https://github.com//rg3dengine/rg3d</td>\n",
       "    </tr>\n",
       "    <tr>\n",
       "      <th>28</th>\n",
       "      <td>antvis</td>\n",
       "      <td>L7</td>\n",
       "      <td>2400</td>\n",
       "      <td>https://github.com//antvis/L7</td>\n",
       "    </tr>\n",
       "    <tr>\n",
       "      <th>29</th>\n",
       "      <td>cnr-isti-vclab</td>\n",
       "      <td>meshlab</td>\n",
       "      <td>2400</td>\n",
       "      <td>https://github.com//cnr-isti-vclab/meshlab</td>\n",
       "    </tr>\n",
       "  </tbody>\n",
       "</table>\n",
       "</div>"
      ],
      "text/plain": [
       "            username                      repo_name  stars  \\\n",
       "0             mrdoob                       three.js  73800   \n",
       "1             libgdx                         libgdx  18800   \n",
       "2             pmndrs              react-three-fiber  14800   \n",
       "3          BabylonJS                     Babylon.js  14700   \n",
       "4           aframevr                         aframe  13000   \n",
       "5              ssloy                   tinyrenderer  11100   \n",
       "6            lettier  3d-game-shaders-for-beginners  11000   \n",
       "7            FreeCAD                        FreeCAD   9800   \n",
       "8          metafizzy                           zdog   8600   \n",
       "9           CesiumGS                         cesium   7400   \n",
       "10       timzhang642            3D-Machine-Learning   7000   \n",
       "11      a1studmuffin             SpaceshipGenerator   6900   \n",
       "12           isl-org                         Open3D   5300   \n",
       "13          spritejs                       spritejs   4600   \n",
       "14  tensorspace-team                    tensorspace   4500   \n",
       "15           jagenjo                 webglstudio.js   4400   \n",
       "16           YadiraF                          PRNet   4400   \n",
       "17      AaronJackson                            vrn   4400   \n",
       "18           domlysz                     BlenderGIS   4200   \n",
       "19          openscad                       openscad   4200   \n",
       "20             ssloy                  tinyraytracer   3900   \n",
       "21             mosra                         magnum   3600   \n",
       "22            google                   model-viewer   3300   \n",
       "23           blender                        blender   3200   \n",
       "24   gfxfundamentals             webgl-fundamentals   3100   \n",
       "25         cleardusk                          3DDFA   3100   \n",
       "26         jasonlong        isometric-contributions   3000   \n",
       "27        rg3dengine                           rg3d   2700   \n",
       "28            antvis                             L7   2400   \n",
       "29    cnr-isti-vclab                        meshlab   2400   \n",
       "\n",
       "                                             repo_url  \n",
       "0                 https://github.com//mrdoob/three.js  \n",
       "1                   https://github.com//libgdx/libgdx  \n",
       "2        https://github.com//pmndrs/react-three-fiber  \n",
       "3            https://github.com//BabylonJS/Babylon.js  \n",
       "4                 https://github.com//aframevr/aframe  \n",
       "5              https://github.com//ssloy/tinyrenderer  \n",
       "6   https://github.com//lettier/3d-game-shaders-fo...  \n",
       "7                 https://github.com//FreeCAD/FreeCAD  \n",
       "8                  https://github.com//metafizzy/zdog  \n",
       "9                 https://github.com//CesiumGS/cesium  \n",
       "10  https://github.com//timzhang642/3D-Machine-Lea...  \n",
       "11  https://github.com//a1studmuffin/SpaceshipGene...  \n",
       "12                 https://github.com//isl-org/Open3D  \n",
       "13              https://github.com//spritejs/spritejs  \n",
       "14   https://github.com//tensorspace-team/tensorspace  \n",
       "15         https://github.com//jagenjo/webglstudio.js  \n",
       "16                  https://github.com//YadiraF/PRNet  \n",
       "17               https://github.com//AaronJackson/vrn  \n",
       "18             https://github.com//domlysz/BlenderGIS  \n",
       "19              https://github.com//openscad/openscad  \n",
       "20            https://github.com//ssloy/tinyraytracer  \n",
       "21                   https://github.com//mosra/magnum  \n",
       "22            https://github.com//google/model-viewer  \n",
       "23                https://github.com//blender/blender  \n",
       "24  https://github.com//gfxfundamentals/webgl-fund...  \n",
       "25                https://github.com//cleardusk/3DDFA  \n",
       "26  https://github.com//jasonlong/isometric-contri...  \n",
       "27                https://github.com//rg3dengine/rg3d  \n",
       "28                      https://github.com//antvis/L7  \n",
       "29         https://github.com//cnr-isti-vclab/meshlab  "
      ]
     },
     "execution_count": 50,
     "metadata": {},
     "output_type": "execute_result"
    }
   ],
   "source": [
    "#using the function for an example page\n",
    "get_topic_repos(doc_topic)"
   ]
  },
  {
   "cell_type": "code",
   "execution_count": 51,
   "id": "8798904e",
   "metadata": {},
   "outputs": [],
   "source": [
    "# defining a function to scrape repos of a topic page and turn into CSV file\n",
    "def scrape_topic (topic_url, path):\n",
    "    if os.path.exists(path):\n",
    "        print(\"The file {} already exists.Skipping...\".format(path))\n",
    "        return \n",
    "    topic_df = get_topic_repos (get_topic_page(topic_url))\n",
    "    \n",
    "    topic_df.to_csv(path, index = None)\n"
   ]
  },
  {
   "cell_type": "code",
   "execution_count": null,
   "id": "1abc26ce",
   "metadata": {},
   "outputs": [],
   "source": []
  },
  {
   "cell_type": "markdown",
   "id": "8d164cd6",
   "metadata": {},
   "source": [
    "### Putting it all together\n",
    "\n",
    "- We have created a function to get the list of topics\n",
    "- We also have created a function to create a CSV file for scraped repos from a topic page\n",
    "- We are going to create a function to put them together automatically\n"
   ]
  },
  {
   "cell_type": "code",
   "execution_count": 53,
   "id": "9fa0e5f6",
   "metadata": {},
   "outputs": [],
   "source": [
    "def scrape_topics_repos():\n",
    "    print (\"scraping list of topics\")\n",
    "    topics_df = scrape_topics()\n",
    "\n",
    "    os.makedirs(\"data\", exist_ok = True)\n",
    "    \n",
    "    for index, row in topics_df.iterrows():\n",
    "        print(\"scraping top repositories for {}\".format(row[\"title\"]))\n",
    "        scrape_topic(row[\"url\"], \"data/{}.csv\".format(row[\"title\"]) )"
   ]
  },
  {
   "cell_type": "markdown",
   "id": "afc653b4",
   "metadata": {},
   "source": [
    "We are going to run the defined function to scrape the top repos for all the topics on the first page of https://github.com/topics "
   ]
  },
  {
   "cell_type": "code",
   "execution_count": 54,
   "id": "c3d1c39f",
   "metadata": {},
   "outputs": [
    {
     "name": "stdout",
     "output_type": "stream",
     "text": [
      "scraping list of topics\n"
     ]
    }
   ],
   "source": [
    "scrape_topics_repos ()"
   ]
  },
  {
   "cell_type": "markdown",
   "id": "0ce26406",
   "metadata": {},
   "source": [
    "We have created a CSV file for every topic on topics first page containing the top repositories of each topic"
   ]
  },
  {
   "cell_type": "markdown",
   "id": "5313ffc5",
   "metadata": {},
   "source": [
    "## 3. Ideas for future work\n",
    "\n",
    "- scraping other pages of topics. This project was done in order to get the first page topics. we can scrape second to last page of topics \n",
    "- scraping more than 25 top repositories of topics\n",
    "- scraping the trending page of Github throughtout a time period can give us a picture of hot topics "
   ]
  },
  {
   "cell_type": "code",
   "execution_count": null,
   "id": "1338cfd2",
   "metadata": {},
   "outputs": [],
   "source": []
  }
 ],
 "metadata": {
  "kernelspec": {
   "display_name": "Python 3",
   "language": "python",
   "name": "python3"
  },
  "language_info": {
   "codemirror_mode": {
    "name": "ipython",
    "version": 3
   },
   "file_extension": ".py",
   "mimetype": "text/x-python",
   "name": "python",
   "nbconvert_exporter": "python",
   "pygments_lexer": "ipython3",
   "version": "3.8.8"
  }
 },
 "nbformat": 4,
 "nbformat_minor": 5
}
